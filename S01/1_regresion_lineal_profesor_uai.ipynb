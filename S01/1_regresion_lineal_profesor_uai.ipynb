{
 "cells": [
  {
   "cell_type": "markdown",
   "metadata": {
    "slideshow": {
     "slide_type": "slide"
    }
   },
   "source": [
    "<center>\n",
    "    <img src='images/small-uai.jpeg'style=\"width: 300px;\">\n",
    "</center>\n",
    "\n",
    "# Laboratorio S01: Tensores y regresión lineal\n",
    "\n",
    "## _Deep learning_\n",
    "   \n",
    "<center>\n",
    "    <img src='images/regresion-lineal-python.png'style=\"width: 400px;\">\n",
    "    <sub><sup>https://miro.medium.com/max/1900/1*TzBsVJUXqofGqdsBJRvXEw.png</sup></sub> \n",
    "</center>\n",
    "\n",
    "**Profesor**: Dr. Juan Bekios Calfa\n",
    "\n",
    "**Grado**: MIA"
   ]
  },
  {
   "cell_type": "markdown",
   "metadata": {
    "id": "7vCDOgrxA6qM",
    "slideshow": {
     "slide_type": "slide"
    }
   },
   "source": [
    "# Laboratorio 01: Regresión Lineal y Redes Neuronales\n",
    "\n",
    "## Objetivo:\n",
    "\n",
    "1.   Introducción a tensores.\n",
    "2.   Implementar el algoritmo de regresión lineal utilizando Python.\n",
    "3.   Implementar el algoritmo de regresión lineal utilizando las librerías Torch.\n",
    "4. Implementar el algoritmo de regresión lineal utilizando Torch."
   ]
  },
  {
   "cell_type": "markdown",
   "metadata": {
    "slideshow": {
     "slide_type": "slide"
    }
   },
   "source": [
    "## 1. Introducción a tensores\n",
    "\n",
    "Un tensor PyTorch es básicamente lo mismo que una matriz numpy: no sabe nada sobre aprendizaje profundo o \n",
    "gráficos computacionales o gradientes, y es solo una matriz genérica n-dimensional que se utilizará para \n",
    "el cálculo numérico arbitrario.\n",
    "\n",
    "![picture](https://empresas.blogthinkbig.com/wp-content/uploads/2020/04/tensor1.png?resize=640%2C423)\n"
   ]
  },
  {
   "cell_type": "markdown",
   "metadata": {
    "slideshow": {
     "slide_type": "slide"
    }
   },
   "source": [
    "### 1.1 Crear un tensor"
   ]
  },
  {
   "cell_type": "code",
   "execution_count": 5,
   "metadata": {
    "id": "qhnsCfzJLhps",
    "slideshow": {
     "slide_type": "fragment"
    }
   },
   "outputs": [],
   "source": [
    "import torch\n",
    "import numpy as np"
   ]
  },
  {
   "cell_type": "code",
   "execution_count": 6,
   "metadata": {
    "id": "snpH7Q3BUQhG",
    "slideshow": {
     "slide_type": "fragment"
    }
   },
   "outputs": [
    {
     "name": "stdout",
     "output_type": "stream",
     "text": [
      "tensor([2.6833e-09])\n",
      "tensor([ 1.2193e+34,  3.0928e-41, -1.0406e-01])\n",
      "tensor([[1.2198e+34, 3.0928e-41, 1.2143e+34],\n",
      "        [3.0928e-41, 2.6258e-06, 2.3329e-18]])\n",
      "tensor([[[-1.0406e-01,  4.5869e-41,  1.2169e+34],\n",
      "         [ 3.0928e-41,  1.2191e+34,  3.0928e-41]],\n",
      "\n",
      "        [[ 1.2144e+34,  3.0928e-41,  1.9430e-19],\n",
      "         [ 1.9432e-19,  1.0271e-32,  1.3563e-19]]])\n"
     ]
    }
   ],
   "source": [
    "# Crear un tensor vacío: No inicializado\n",
    "x = torch.empty(1) # escalar\n",
    "print(x)\n",
    "\n",
    "x = torch.empty(3) # vector, 1D\n",
    "print(x)\n",
    "\n",
    "x = torch.empty(2,3) # matriz, 2D\n",
    "print(x)\n",
    "\n",
    "x = torch.empty(2,2,3) # tensor, 3 dimensions\n",
    "#x = torch.empty(2,2,2,3) # tensor, 4 dimensions\n",
    "print(x)"
   ]
  },
  {
   "cell_type": "code",
   "execution_count": 7,
   "metadata": {
    "id": "L3xMn8t0lQVI",
    "slideshow": {
     "slide_type": "slide"
    }
   },
   "outputs": [
    {
     "name": "stdout",
     "output_type": "stream",
     "text": [
      "tensor([[1, 2],\n",
      "        [3, 4],\n",
      "        [5, 6]])\n",
      "torch.Size([3, 2])\n",
      "tensor([[1, 2],\n",
      "        [3, 4],\n",
      "        [5, 6]])\n",
      "tensor([1, 2, 3, 4])\n",
      "torch.Size([4])\n",
      "tensor([[0.4805, 0.3235, 0.4078],\n",
      "        [0.7198, 0.4640, 0.1541]])\n",
      "torch.Size([2, 3])\n"
     ]
    }
   ],
   "source": [
    "# Lista python construir un tensor\n",
    "list = [[1,2], [3, 4], [5, 6]]\n",
    "tensor1 = torch.tensor(list)\n",
    "\n",
    "print(tensor1)\n",
    "print(tensor1.shape)\n",
    "\n",
    "# Crear un tensor de una lista\n",
    "tensor2 = torch.tensor([[1,2], [3, 4], [5, 6]])\n",
    "print(tensor2)\n",
    "\n",
    "# Crear un tensor a partir de una matriz numpy\n",
    "imagen = np.array([1,2,3,4])\n",
    "tensor3 = torch.tensor(imagen)\n",
    "#print(tensor3)\n",
    "#print(tensor3.shape)\n",
    "\n",
    "# Torch tensor de números aleatorios\n",
    "tensor4 = torch.rand(2,3)\n",
    "#print(tensor4)\n",
    "#print(tensor4.shape)"
   ]
  },
  {
   "cell_type": "markdown",
   "metadata": {
    "id": "J4soV960lSz6",
    "slideshow": {
     "slide_type": "slide"
    }
   },
   "source": [
    "### 1.2 Estructura de un tensor\n",
    "\n",
    "El método *size()* permite ver el tamaño de un tensor, su rango y las dimensiones."
   ]
  },
  {
   "cell_type": "code",
   "execution_count": null,
   "metadata": {
    "colab": {
     "base_uri": "https://localhost:8080/"
    },
    "collapsed": true,
    "executionInfo": {
     "elapsed": 937,
     "status": "ok",
     "timestamp": 1602109081537,
     "user": {
      "displayName": "Juan Bekios",
      "photoUrl": "https://lh3.googleusercontent.com/a-/AOh14Gi2JWCO19gvDJyrxfHfNFNiXBEKcXQjNf-Ywq-j_w=s64",
      "userId": "07279642735588932357"
     },
     "user_tz": 180
    },
    "id": "dTrpLENDlhit",
    "outputId": "450c69df-3b94-4db9-9b3c-2586a17c7948",
    "slideshow": {
     "slide_type": "fragment"
    }
   },
   "outputs": [
    {
     "name": "stdout",
     "output_type": "stream",
     "text": [
      "torch.Size([3, 2])\n"
     ]
    }
   ],
   "source": [
    "print(tensor1.size())"
   ]
  },
  {
   "cell_type": "markdown",
   "metadata": {
    "id": "pg7kWWExl2n6",
    "slideshow": {
     "slide_type": "slide"
    }
   },
   "source": [
    "### 1.3 Acceso a un tensor\n",
    "\n",
    "Los elementos de un tensor pueden ser accesados de la misma manera que en **numpy** (librerías de matrices de Python)."
   ]
  },
  {
   "cell_type": "code",
   "execution_count": null,
   "metadata": {
    "colab": {
     "base_uri": "https://localhost:8080/"
    },
    "collapsed": true,
    "executionInfo": {
     "elapsed": 987,
     "status": "ok",
     "timestamp": 1602109084075,
     "user": {
      "displayName": "Juan Bekios",
      "photoUrl": "https://lh3.googleusercontent.com/a-/AOh14Gi2JWCO19gvDJyrxfHfNFNiXBEKcXQjNf-Ywq-j_w=s64",
      "userId": "07279642735588932357"
     },
     "user_tz": 180
    },
    "id": "YxgQRPPMmOOj",
    "outputId": "e63abbad-efd4-49b1-d5d9-76d17370d996",
    "slideshow": {
     "slide_type": "fragment"
    }
   },
   "outputs": [
    {
     "name": "stdout",
     "output_type": "stream",
     "text": [
      "tensor([[1, 2],\n",
      "        [3, 4],\n",
      "        [5, 6]])\n",
      "tensor([3, 4])\n",
      "tensor(4)\n"
     ]
    }
   ],
   "source": [
    "print(tensor1)\n",
    "print(tensor1[1]) # Obtengo la fila dos de el tensor (completa)\n",
    "print(tensor1[1,1]) # Obtengo el elemento de la posición de la fila 2 y columna 2"
   ]
  },
  {
   "cell_type": "markdown",
   "metadata": {
    "id": "6Dm5Doa8mQ0a",
    "slideshow": {
     "slide_type": "slide"
    }
   },
   "source": [
    "### 1.4 Uso de tensores con CUDA (GPU)\n",
    "\n",
    "Pytorch permite trabajar con CUDA para realizar operaciones matemáticas en GPU (Si se cuenta con una)."
   ]
  },
  {
   "cell_type": "code",
   "execution_count": 8,
   "metadata": {
    "colab": {
     "base_uri": "https://localhost:8080/"
    },
    "executionInfo": {
     "elapsed": 910,
     "status": "ok",
     "timestamp": 1602109139954,
     "user": {
      "displayName": "Juan Bekios",
      "photoUrl": "https://lh3.googleusercontent.com/a-/AOh14Gi2JWCO19gvDJyrxfHfNFNiXBEKcXQjNf-Ywq-j_w=s64",
      "userId": "07279642735588932357"
     },
     "user_tz": 180
    },
    "id": "Baa-vuX3mqyl",
    "outputId": "63db5b32-f6ac-4677-a0a4-24464f5ab792",
    "slideshow": {
     "slide_type": "fragment"
    }
   },
   "outputs": [
    {
     "name": "stdout",
     "output_type": "stream",
     "text": [
      "True\n",
      "0\n",
      "GeForce GTX 1660 SUPER\n"
     ]
    }
   ],
   "source": [
    "print(torch.cuda.is_available())\n",
    "print(torch.cuda.current_device())\n",
    "print(torch.cuda.get_device_name(0))"
   ]
  },
  {
   "cell_type": "markdown",
   "metadata": {
    "id": "NbUSGAx6m1uP",
    "slideshow": {
     "slide_type": "slide"
    }
   },
   "source": [
    "### 1.5 CPU vs GPU"
   ]
  },
  {
   "cell_type": "code",
   "execution_count": 10,
   "metadata": {
    "colab": {
     "base_uri": "https://localhost:8080/",
     "height": 51
    },
    "id": "NU2tgIg2m9ry",
    "outputId": "c7097f69-8f29-4b1c-af04-6343f9a09c3b",
    "slideshow": {
     "slide_type": "fragment"
    }
   },
   "outputs": [
    {
     "name": "stdout",
     "output_type": "stream",
     "text": [
      "CPU times: user 48.4 s, sys: 875 ms, total: 49.3 s\n",
      "Wall time: 9.55 s\n"
     ]
    }
   ],
   "source": [
    "%%time\n",
    "# Tiempo CPU\n",
    "for i in range(500):\n",
    "  x = torch.randn(1000, 1000)\n",
    "  y = torch.randn(1000, 1000)\n",
    "  z = torch.matmul(x, y)\n"
   ]
  },
  {
   "cell_type": "code",
   "execution_count": 15,
   "metadata": {
    "id": "31KV490LnFd8",
    "slideshow": {
     "slide_type": "fragment"
    }
   },
   "outputs": [
    {
     "name": "stdout",
     "output_type": "stream",
     "text": [
      "tensor([[1, 2],\n",
      "        [3, 4],\n",
      "        [5, 6]], device='cuda:0')\n",
      "CPU times: user 352 ms, sys: 64.2 ms, total: 416 ms\n",
      "Wall time: 416 ms\n"
     ]
    }
   ],
   "source": [
    "%%time\n",
    "# Tiempo GPU\n",
    "cuda0 = torch.device('cuda:0')\n",
    "for i in range(500):\n",
    "  x = torch.randn(1000, 1000, device=cuda0)\n",
    "  y = torch.randn(1000, 1000, device=cuda0)\n",
    "  z = torch.matmul(x, y)\n",
    "\n",
    "A = torch.tensor([[1,2], [3, 4], [5, 6]], device=cuda0)\n",
    "print(A)"
   ]
  },
  {
   "cell_type": "markdown",
   "metadata": {
    "id": "gt4a3AjEkPrY",
    "slideshow": {
     "slide_type": "slide"
    }
   },
   "source": [
    "## 2. Regresión lineal (I):\n",
    "\n",
    "Se realiza el cálculo de una regresión lineal por medio del cálculo manual de los gradientes (derivada de la función de pérdida).\n",
    "\n",
    "Como ejemplo utilizaremos base de datos muy simple. La hipótesis será lineal:\n",
    "\n",
    "$$y = \\theta_0 \\cdot x$$\n",
    "\n",
    "Sin intercepto o _bias_ para simplificar el problema y explicarlo con claridad.\n"
   ]
  },
  {
   "cell_type": "markdown",
   "metadata": {
    "slideshow": {
     "slide_type": "slide"
    }
   },
   "source": [
    "### Base de datos"
   ]
  },
  {
   "cell_type": "code",
   "execution_count": 29,
   "metadata": {
    "colab": {
     "base_uri": "https://localhost:8080/",
     "height": 295
    },
    "executionInfo": {
     "elapsed": 921,
     "status": "ok",
     "timestamp": 1602109597796,
     "user": {
      "displayName": "Juan Bekios",
      "photoUrl": "https://lh3.googleusercontent.com/a-/AOh14Gi2JWCO19gvDJyrxfHfNFNiXBEKcXQjNf-Ywq-j_w=s64",
      "userId": "07279642735588932357"
     },
     "user_tz": 180
    },
    "id": "xrWoBdg5KRXf",
    "outputId": "e114ddff-7532-43ba-c3af-4409544605f8",
    "slideshow": {
     "slide_type": "fragment"
    }
   },
   "outputs": [
    {
     "data": {
      "image/png": "[encoded data removed]",
      "text/plain": [
       "<Figure size 360x216 with 1 Axes>"
      ]
     },
     "metadata": {
      "needs_background": "light"
     },
     "output_type": "display_data"
    }
   ],
   "source": [
    "import matplotlib.pyplot as plt\n",
    "\n",
    "plt.figure(figsize=(5, 3))\n",
    "\n",
    "X = np.array([1, 2, 3, 4], dtype=np.float32)\n",
    "y = np.array([2, 4, 6, 8], dtype=np.float32)\n",
    "\n",
    "plt.plot(X, y, marker='o', markerfacecolor='red')\n",
    "plt.title('Título del gráfico')\n",
    "plt.xlabel('X')\n",
    "plt.ylabel('y')\n",
    "plt.grid(True)"
   ]
  },
  {
   "cell_type": "markdown",
   "metadata": {
    "slideshow": {
     "slide_type": "slide"
    }
   },
   "source": [
    "### 2.1 Regresión lineal utilizando descenso de gradiente\n",
    "\n",
    "Para calcular una regresión lineal utilizando **descenso de gradiente** debemos contar con los siguientes constructos:\n",
    "\n"
   ]
  },
  {
   "cell_type": "markdown",
   "metadata": {
    "slideshow": {
     "slide_type": "fragment"
    }
   },
   "source": [
    "*  **Hipótesis:** Función de lineal, para el ejemplo nuestra hipótesis será: $$\\hat{y}=\\theta_0 \\cdot x$$ Es la fución que hace la predicción una vez que fueron aprendidos los parámetros, también se denota como: $$\\hat{y}=h_\\theta(x)$$\n"
   ]
  },
  {
   "cell_type": "markdown",
   "metadata": {
    "slideshow": {
     "slide_type": "fragment"
    }
   },
   "source": [
    "*  **Función de pérdida**: Error cuadrático medio (MSE, _mean squared error_), $$l(y,\\hat{y})=\\frac{1}{N}\\cdot (y -\\hat{y})^2$$"
   ]
  },
  {
   "cell_type": "markdown",
   "metadata": {
    "slideshow": {
     "slide_type": "slide"
    }
   },
   "source": [
    "*  **Derivada de la función de pérdida**: $$\\frac{dl}{d\\theta_0} = \\frac{1}{N}\\cdot 2x(\\theta_0 x - y)$$"
   ]
  },
  {
   "cell_type": "code",
   "execution_count": 31,
   "metadata": {
    "id": "50Z3BUVpA2sy",
    "slideshow": {
     "slide_type": "slide"
    }
   },
   "outputs": [
    {
     "name": "stdout",
     "output_type": "stream",
     "text": [
      "Predicción antes de entrenar: f(5) = 0.000\n"
     ]
    }
   ],
   "source": [
    "import numpy as np\n",
    "\n",
    "X = np.array([1, 2, 3, 4], dtype=np.float32)\n",
    "y = np.array([2, 4, 6, 8], dtype=np.float32)\n",
    "\n",
    "# Inicializo con cualquier valor los tetas (W)\n",
    "W = 0.0\n",
    "\n",
    "# Hipótesis: Lineal (f(x)=w*x)\n",
    "def forward(x):\n",
    "  return W * x\n",
    "\n",
    "# Loss: MSE\n",
    "def loss(y, y_pred):\n",
    "  return ((y - y_pred)**2).mean()\n",
    "\n",
    "# Gradiente\n",
    "# L = MSE = 1/N * (w*x - y) ** 2\n",
    "# dL/dW = 1/N * 2x(w*x -y)\n",
    "def gradient(x, y, y_pred):\n",
    "  return np.dot(2*x, y_pred - y).mean()\n",
    "\n",
    "print(f'Predicción antes de entrenar: f(5) = {forward(5):.3f}')"
   ]
  },
  {
   "cell_type": "code",
   "execution_count": null,
   "metadata": {
    "collapsed": true,
    "id": "50Z3BUVpA2sy",
    "slideshow": {
     "slide_type": "slide"
    }
   },
   "outputs": [],
   "source": [
    "# Entrenar nuestro modelo: Descenso de gradiente.\n",
    "learning_rate = 0.01\n",
    "n_iter = 20\n",
    "\n",
    "for epoch in range(n_iter):\n",
    "  # Prediccion\n",
    "  y_pred = forward(X)\n",
    "\n",
    "  # Error\n",
    "  l = loss(y, y_pred)\n",
    "\n",
    "  # Calculo de gradientes \n",
    "  dw = gradient(X, y, y_pred)\n",
    "\n",
    "  # Actualizar los pesos\n",
    "  W = W - learning_rate * dw\n",
    "\n",
    "  if epoch % 2 == 0:\n",
    "    print(f'epoch {epoch+1}: w = {W:.3f}, loss = {l:.8f}')\n",
    "\n",
    "print(f'Predicción después de entrenar: f(5) = {forward(5):.3f}')"
   ]
  },
  {
   "cell_type": "markdown",
   "metadata": {
    "id": "1UkSZO4NEF_O",
    "slideshow": {
     "slide_type": "slide"
    }
   },
   "source": [
    "### 2.2 Regresión lineal (II):\n",
    "\n",
    "En este caso se realiza el cálculo de los parámetros de la regresión lineal por medio del cálculo manual de los gradientes (derivada de la función de pérdida)."
   ]
  },
  {
   "cell_type": "code",
   "execution_count": null,
   "metadata": {
    "colab": {
     "base_uri": "https://localhost:8080/",
     "height": 221
    },
    "collapsed": true,
    "id": "9kjA_xKcEVS4",
    "outputId": "6b82ce62-066b-436c-fe67-f3d77b668ad4",
    "slideshow": {
     "slide_type": "slide"
    }
   },
   "outputs": [
    {
     "name": "stdout",
     "output_type": "stream",
     "text": [
      "Prediccion antes del entrenamiento: f(5) = 0.000\n",
      "epoch 0: w = 0.600, loss = 30.00000000\n",
      "epoch 3: w = 1.520, loss = 3.52946997\n",
      "epoch 6: w = 1.835, loss = 0.41523871\n",
      "epoch 9: w = 1.944, loss = 0.04885240\n",
      "epoch 12: w = 1.981, loss = 0.00574747\n",
      "epoch 15: w = 1.993, loss = 0.00067618\n",
      "epoch 18: w = 1.998, loss = 0.00007955\n",
      "epoch 21: w = 1.999, loss = 0.00000936\n",
      "epoch 24: w = 2.000, loss = 0.00000110\n",
      "epoch 27: w = 2.000, loss = 0.00000013\n",
      "Predicción después de entrenar: f(5) = 10.000\n"
     ]
    }
   ],
   "source": [
    "import torch\n",
    "\n",
    "# Pasar todos los vectores a tensores\n",
    "X = torch.tensor([1, 2, 3, 4], dtype=torch.float32)\n",
    "y = torch.tensor([2, 4, 6, 8], dtype=torch.float32)\n",
    "\n",
    "w = torch.tensor(0.0, dtype=torch.float32, requires_grad=True)\n",
    "\n",
    "# Salida modelo (prediccion del modelo)\n",
    "def forward(x):\n",
    "  return x * w\n",
    "  \n",
    "# loss = MSE\n",
    "def loss(y, y_pred):\n",
    "  return ((y_pred - y)**2).mean()\n",
    "\n",
    "print(f'Prediccion antes del entrenamiento: f(5) = {forward(5).item():.3f}')"
   ]
  },
  {
   "cell_type": "code",
   "execution_count": 32,
   "metadata": {
    "colab": {
     "base_uri": "https://localhost:8080/",
     "height": 221
    },
    "id": "9kjA_xKcEVS4",
    "outputId": "6b82ce62-066b-436c-fe67-f3d77b668ad4",
    "slideshow": {
     "slide_type": "slide"
    }
   },
   "outputs": [
    {
     "ename": "AttributeError",
     "evalue": "'numpy.float32' object has no attribute 'backward'",
     "output_type": "error",
     "traceback": [
      "\u001b[0;31m---------------------------------------------------------------------------\u001b[0m",
      "\u001b[0;31mAttributeError\u001b[0m                            Traceback (most recent call last)",
      "\u001b[0;32m<ipython-input-32-9823c36f7bd3>\u001b[0m in \u001b[0;36m<module>\u001b[0;34m\u001b[0m\n\u001b[1;32m     11\u001b[0m \u001b[0;34m\u001b[0m\u001b[0m\n\u001b[1;32m     12\u001b[0m   \u001b[0;31m# 3. Calcular los gradientes\u001b[0m\u001b[0;34m\u001b[0m\u001b[0;34m\u001b[0m\u001b[0;34m\u001b[0m\u001b[0m\n\u001b[0;32m---> 13\u001b[0;31m   \u001b[0ml\u001b[0m\u001b[0;34m.\u001b[0m\u001b[0mbackward\u001b[0m\u001b[0;34m(\u001b[0m\u001b[0;34m)\u001b[0m\u001b[0;34m\u001b[0m\u001b[0;34m\u001b[0m\u001b[0m\n\u001b[0m\u001b[1;32m     14\u001b[0m \u001b[0;34m\u001b[0m\u001b[0m\n\u001b[1;32m     15\u001b[0m   \u001b[0;31m# 4. Actualizar los pesos\u001b[0m\u001b[0;34m\u001b[0m\u001b[0;34m\u001b[0m\u001b[0;34m\u001b[0m\u001b[0m\n",
      "\u001b[0;31mAttributeError\u001b[0m: 'numpy.float32' object has no attribute 'backward'"
     ]
    }
   ],
   "source": [
    "# Fase: Entrenamiento\n",
    "learning_rate = 0.02\n",
    "n_iter = 30\n",
    "\n",
    "for epoch in range(n_iter):\n",
    "  # 1. Prediccion\n",
    "  y_pred = forward(X)\n",
    "\n",
    "  # 2. Calcular error\n",
    "  l = loss(y, y_pred)\n",
    "\n",
    "  # 3. Calcular los gradientes\n",
    "  l.backward()\n",
    "\n",
    "  # 4. Actualizar los pesos\n",
    "  with torch.no_grad():\n",
    "    w -= learning_rate * w.grad\n",
    "\n",
    "  # 5. Dejar en zero los valores de gradiente de w\n",
    "  w.grad.zero_()\n",
    "\n",
    "  if epoch % 3 == 0:\n",
    "    print(f'epoch {epoch}: w = {w.item():.3f}, loss = {l.item():.8f}')\n",
    "\n",
    "print(f'Predicción después de entrenar: f(5) = {forward(5).item():.3f}')\n"
   ]
  },
  {
   "cell_type": "markdown",
   "metadata": {
    "id": "JybHBi59hvL3",
    "slideshow": {
     "slide_type": "slide"
    }
   },
   "source": [
    "### 2.3. Regresión lineal (III):\n",
    "\n",
    "Cálculo de los parámetros de la regresión lineal utilizando Pytorch (derivada de la función de pérdida)."
   ]
  },
  {
   "cell_type": "code",
   "execution_count": 34,
   "metadata": {
    "id": "o0ApQnGuhoZW",
    "slideshow": {
     "slide_type": "slide"
    }
   },
   "outputs": [],
   "source": [
    "import torch\n",
    "import torch.nn as nn\n",
    "import numpy as np\n",
    "import matplotlib.pyplot as plt"
   ]
  },
  {
   "cell_type": "code",
   "execution_count": 35,
   "metadata": {
    "id": "o0ApQnGuhoZW",
    "slideshow": {
     "slide_type": "slide"
    }
   },
   "outputs": [],
   "source": [
    "def gradiente_descent(X, y, iters=10):\n",
    "  n_samples, n_features = X.shape\n",
    "\n",
    "  # 1.1) Defino la hipotesis\n",
    "  input_size = n_features\n",
    "  output_size = 1\n",
    "  model = nn.Linear(input_size, output_size)\n",
    "\n",
    "  # 1.2) Funcion de perdida y configurar los parametros del optimizador\n",
    "  learning_rate = 0.01\n",
    "  criterion = nn.MSELoss()\n",
    "  optimizer = torch.optim.SGD(model.parameters(), lr=learning_rate)\n",
    "\n",
    "  # 1.3) Ciclo de entrenamiento\n",
    "  num_epochs = iters\n",
    "  for epoch in range(num_epochs):\n",
    "    # Calcular la prediccion\n",
    "    y_predicted = model(X)\n",
    "    loss = criterion(y_predicted, y)\n",
    "\n",
    "    # Actualiza el modelo\n",
    "    loss.backward() #Calcular los gradientes\n",
    "    optimizer.step()\n",
    "\n",
    "    # Dejar los gradientes en cero\n",
    "    optimizer.zero_grad()\n",
    "\n",
    "    if epoch % 2 == 0:\n",
    "      print(f'epoch {epoch}:  loss = {loss.item():.8f}') \n",
    "    \n",
    "  return model  "
   ]
  },
  {
   "cell_type": "code",
   "execution_count": 36,
   "metadata": {
    "id": "o0ApQnGuhoZW",
    "slideshow": {
     "slide_type": "slide"
    }
   },
   "outputs": [],
   "source": [
    "def plot_fit(X_numpy, y_numpy, y_pred):\n",
    "  plt.plot(X_numpy, y_numpy, 'ro', label='$Y_{real}$')\n",
    "  plt.plot(X_numpy, y_pred, 'bo', label='$Y_{estimado}$')\n",
    "  plt.xlabel('X - Variable Independiente')\n",
    "  plt.ylabel('Y - Variable Dependiente')\n",
    "  plt.legend(bbox_to_anchor=(1.05, 1), loc='upper left', borderaxespad=0.)\n",
    "  plt.show()\n"
   ]
  },
  {
   "cell_type": "markdown",
   "metadata": {
    "slideshow": {
     "slide_type": "slide"
    }
   },
   "source": [
    "## 3. Visualización del descenso de gradiente"
   ]
  },
  {
   "cell_type": "code",
   "execution_count": 37,
   "metadata": {
    "colab": {
     "base_uri": "https://localhost:8080/",
     "height": 299
    },
    "executionInfo": {
     "elapsed": 2434,
     "status": "ok",
     "timestamp": 1602772549128,
     "user": {
      "displayName": "Juan Bekios",
      "photoUrl": "https://lh3.googleusercontent.com/a-/AOh14Gi2JWCO19gvDJyrxfHfNFNiXBEKcXQjNf-Ywq-j_w=s64",
      "userId": "07279642735588932357"
     },
     "user_tz": 180
    },
    "id": "8QVMeHhu2vjM",
    "outputId": "2ba06f7a-7e45-494a-e00e-d457b102e62a",
    "slideshow": {
     "slide_type": "slide"
    }
   },
   "outputs": [
    {
     "name": "stdout",
     "output_type": "stream",
     "text": [
      "epoch 0:  loss = 6223.44873047\n"
     ]
    },
    {
     "data": {
      "image/png": "[encoded data removed]",
      "text/plain": [
       "<Figure size 432x288 with 1 Axes>"
      ]
     },
     "metadata": {
      "needs_background": "light"
     },
     "output_type": "display_data"
    }
   ],
   "source": [
    "from sklearn import datasets\n",
    "#import matplotlib.pyplot as plt\n",
    "\n",
    "# 0) Cargar datos\n",
    "X_numpy, y_numpy = datasets.make_regression(n_samples=100, n_features=1, noise=40, random_state=4)\n",
    "\n",
    "# cast a Tensor\n",
    "X = torch.from_numpy(X_numpy.astype(np.float32))\n",
    "y = torch.from_numpy(y_numpy.astype(np.float32))\n",
    "y = y.view(y.shape[0],1)\n",
    "\n",
    "# 1) Entrenamiento\n",
    "model = gradiente_descent(X, y, iters=1)\n",
    "\n",
    "# 2) Graficar\n",
    "predicted = model(X).detach().numpy()\n",
    "\n",
    "plot_fit(X_numpy, y_numpy, predicted)"
   ]
  },
  {
   "cell_type": "code",
   "execution_count": 38,
   "metadata": {
    "colab": {
     "base_uri": "https://localhost:8080/",
     "height": 333
    },
    "executionInfo": {
     "elapsed": 1747,
     "status": "ok",
     "timestamp": 1602772553583,
     "user": {
      "displayName": "Juan Bekios",
      "photoUrl": "https://lh3.googleusercontent.com/a-/AOh14Gi2JWCO19gvDJyrxfHfNFNiXBEKcXQjNf-Ywq-j_w=s64",
      "userId": "07279642735588932357"
     },
     "user_tz": 180
    },
    "id": "Fuj6P0v-7BX6",
    "outputId": "15364414-ef4a-4890-8667-637965cc48d1",
    "slideshow": {
     "slide_type": "slide"
    }
   },
   "outputs": [
    {
     "name": "stdout",
     "output_type": "stream",
     "text": [
      "epoch 0:  loss = 6260.41943359\n",
      "epoch 2:  loss = 5884.32617188\n",
      "epoch 4:  loss = 5536.00683594\n"
     ]
    },
    {
     "data": {
      "image/png": "[encoded data removed]",
      "text/plain": [
       "<Figure size 432x288 with 1 Axes>"
      ]
     },
     "metadata": {
      "needs_background": "light"
     },
     "output_type": "display_data"
    }
   ],
   "source": [
    "# 1) Entrenamiento\n",
    "model = gradiente_descent(X, y, iters=5)\n",
    "\n",
    "# 2) Graficar\n",
    "predicted = model(X).detach().numpy()\n",
    "\n",
    "plot_fit(X_numpy, y_numpy, predicted)"
   ]
  },
  {
   "cell_type": "code",
   "execution_count": 39,
   "metadata": {
    "colab": {
     "base_uri": "https://localhost:8080/",
     "height": 452
    },
    "executionInfo": {
     "elapsed": 2554,
     "status": "ok",
     "timestamp": 1602772558488,
     "user": {
      "displayName": "Juan Bekios",
      "photoUrl": "https://lh3.googleusercontent.com/a-/AOh14Gi2JWCO19gvDJyrxfHfNFNiXBEKcXQjNf-Ywq-j_w=s64",
      "userId": "07279642735588932357"
     },
     "user_tz": 180
    },
    "id": "SyttTfRd7BMR",
    "outputId": "70308abb-b5d0-4f61-f3a7-b5b1a6ed2091",
    "slideshow": {
     "slide_type": "slide"
    }
   },
   "outputs": [
    {
     "name": "stdout",
     "output_type": "stream",
     "text": [
      "epoch 0:  loss = 6251.26171875\n",
      "epoch 2:  loss = 5875.63671875\n",
      "epoch 4:  loss = 5527.76757812\n",
      "epoch 6:  loss = 5205.59716797\n",
      "epoch 8:  loss = 4907.22705078\n",
      "epoch 10:  loss = 4630.89599609\n",
      "epoch 12:  loss = 4374.97265625\n",
      "epoch 14:  loss = 4137.94824219\n",
      "epoch 16:  loss = 3918.42529297\n",
      "epoch 18:  loss = 3715.10961914\n"
     ]
    },
    {
     "data": {
      "image/png": "[encoded data removed]",
      "text/plain": [
       "<Figure size 432x288 with 1 Axes>"
      ]
     },
     "metadata": {
      "needs_background": "light"
     },
     "output_type": "display_data"
    }
   ],
   "source": [
    "# 1) Entrenamiento\n",
    "model = gradiente_descent(X, y, iters=20)\n",
    "\n",
    "# 2) Graficar\n",
    "predicted = model(X).detach().numpy()\n",
    "\n",
    "plot_fit(X_numpy, y_numpy, predicted)"
   ]
  },
  {
   "cell_type": "code",
   "execution_count": 40,
   "metadata": {
    "id": "c3bQfMyZ7AvQ",
    "slideshow": {
     "slide_type": "slide"
    }
   },
   "outputs": [
    {
     "name": "stdout",
     "output_type": "stream",
     "text": [
      "epoch 0:  loss = 6395.41796875\n",
      "epoch 2:  loss = 6009.61865234\n",
      "epoch 4:  loss = 5652.28857422\n",
      "epoch 6:  loss = 5321.32617188\n",
      "epoch 8:  loss = 5014.78076172\n",
      "epoch 10:  loss = 4730.85107422\n",
      "epoch 12:  loss = 4467.86425781\n",
      "epoch 14:  loss = 4224.27490234\n",
      "epoch 16:  loss = 3998.64941406\n",
      "epoch 18:  loss = 3789.66064453\n",
      "epoch 20:  loss = 3596.08178711\n",
      "epoch 22:  loss = 3416.77441406\n",
      "epoch 24:  loss = 3250.68505859\n",
      "epoch 26:  loss = 3096.83740234\n",
      "epoch 28:  loss = 2954.32934570\n",
      "epoch 30:  loss = 2822.32324219\n",
      "epoch 32:  loss = 2700.04321289\n",
      "epoch 34:  loss = 2586.77319336\n",
      "epoch 36:  loss = 2481.84765625\n",
      "epoch 38:  loss = 2384.65112305\n",
      "epoch 40:  loss = 2294.61376953\n",
      "epoch 42:  loss = 2211.20751953\n",
      "epoch 44:  loss = 2133.94311523\n",
      "epoch 46:  loss = 2062.36816406\n",
      "epoch 48:  loss = 1996.06298828\n",
      "epoch 50:  loss = 1934.63903809\n",
      "epoch 52:  loss = 1877.73657227\n",
      "epoch 54:  loss = 1825.02221680\n",
      "epoch 56:  loss = 1776.18762207\n",
      "epoch 58:  loss = 1730.94689941\n",
      "epoch 60:  loss = 1689.03479004\n",
      "epoch 62:  loss = 1650.20654297\n",
      "epoch 64:  loss = 1614.23449707\n",
      "epoch 66:  loss = 1580.90893555\n",
      "epoch 68:  loss = 1550.03454590\n",
      "epoch 70:  loss = 1521.43078613\n",
      "epoch 72:  loss = 1494.93029785\n",
      "epoch 74:  loss = 1470.37890625\n",
      "epoch 76:  loss = 1447.63244629\n",
      "epoch 78:  loss = 1426.55847168\n",
      "epoch 80:  loss = 1407.03344727\n",
      "epoch 82:  loss = 1388.94360352\n",
      "epoch 84:  loss = 1372.18347168\n",
      "epoch 86:  loss = 1356.65502930\n",
      "epoch 88:  loss = 1342.26770020\n",
      "epoch 90:  loss = 1328.93737793\n",
      "epoch 92:  loss = 1316.58666992\n",
      "epoch 94:  loss = 1305.14318848\n",
      "epoch 96:  loss = 1294.54028320\n",
      "epoch 98:  loss = 1284.71643066\n",
      "epoch 100:  loss = 1275.61376953\n",
      "epoch 102:  loss = 1267.17980957\n",
      "epoch 104:  loss = 1259.36499023\n",
      "epoch 106:  loss = 1252.12426758\n",
      "epoch 108:  loss = 1245.41479492\n",
      "epoch 110:  loss = 1239.19812012\n",
      "epoch 112:  loss = 1233.43774414\n",
      "epoch 114:  loss = 1228.10021973\n",
      "epoch 116:  loss = 1223.15441895\n",
      "epoch 118:  loss = 1218.57153320\n",
      "epoch 120:  loss = 1214.32495117\n",
      "epoch 122:  loss = 1210.39001465\n",
      "epoch 124:  loss = 1206.74365234\n",
      "epoch 126:  loss = 1203.36486816\n",
      "epoch 128:  loss = 1200.23400879\n",
      "epoch 130:  loss = 1197.33276367\n",
      "epoch 132:  loss = 1194.64428711\n",
      "epoch 134:  loss = 1192.15283203\n",
      "epoch 136:  loss = 1189.84436035\n",
      "epoch 138:  loss = 1187.70507812\n",
      "epoch 140:  loss = 1185.72265625\n",
      "epoch 142:  loss = 1183.88549805\n",
      "epoch 144:  loss = 1182.18310547\n",
      "epoch 146:  loss = 1180.60546875\n",
      "epoch 148:  loss = 1179.14343262\n",
      "epoch 150:  loss = 1177.78857422\n",
      "epoch 152:  loss = 1176.53283691\n",
      "epoch 154:  loss = 1175.36950684\n",
      "epoch 156:  loss = 1174.29113770\n",
      "epoch 158:  loss = 1173.29187012\n",
      "epoch 160:  loss = 1172.36572266\n",
      "epoch 162:  loss = 1171.50769043\n",
      "epoch 164:  loss = 1170.71215820\n",
      "epoch 166:  loss = 1169.97509766\n",
      "epoch 168:  loss = 1169.29187012\n",
      "epoch 170:  loss = 1168.65893555\n",
      "epoch 172:  loss = 1168.07214355\n",
      "epoch 174:  loss = 1167.52832031\n",
      "epoch 176:  loss = 1167.02441406\n",
      "epoch 178:  loss = 1166.55725098\n",
      "epoch 180:  loss = 1166.12438965\n",
      "epoch 182:  loss = 1165.72314453\n",
      "epoch 184:  loss = 1165.35131836\n",
      "epoch 186:  loss = 1165.00683594\n",
      "epoch 188:  loss = 1164.68737793\n",
      "epoch 190:  loss = 1164.39135742\n",
      "epoch 192:  loss = 1164.11706543\n",
      "epoch 194:  loss = 1163.86279297\n",
      "epoch 196:  loss = 1163.62695312\n",
      "epoch 198:  loss = 1163.40869141\n",
      "epoch 200:  loss = 1163.20629883\n",
      "epoch 202:  loss = 1163.01855469\n",
      "epoch 204:  loss = 1162.84472656\n",
      "epoch 206:  loss = 1162.68359375\n",
      "epoch 208:  loss = 1162.53417969\n",
      "epoch 210:  loss = 1162.39562988\n",
      "epoch 212:  loss = 1162.26721191\n",
      "epoch 214:  loss = 1162.14831543\n",
      "epoch 216:  loss = 1162.03796387\n",
      "epoch 218:  loss = 1161.93566895\n",
      "epoch 220:  loss = 1161.84106445\n",
      "epoch 222:  loss = 1161.75317383\n",
      "epoch 224:  loss = 1161.67187500\n",
      "epoch 226:  loss = 1161.59643555\n",
      "epoch 228:  loss = 1161.52636719\n",
      "epoch 230:  loss = 1161.46179199\n",
      "epoch 232:  loss = 1161.40161133\n",
      "epoch 234:  loss = 1161.34582520\n",
      "epoch 236:  loss = 1161.29418945\n",
      "epoch 238:  loss = 1161.24645996\n",
      "epoch 240:  loss = 1161.20202637\n",
      "epoch 242:  loss = 1161.16088867\n",
      "epoch 244:  loss = 1161.12268066\n",
      "epoch 246:  loss = 1161.08752441\n",
      "epoch 248:  loss = 1161.05480957\n",
      "epoch 250:  loss = 1161.02453613\n",
      "epoch 252:  loss = 1160.99621582\n",
      "epoch 254:  loss = 1160.97033691\n",
      "epoch 256:  loss = 1160.94604492\n",
      "epoch 258:  loss = 1160.92358398\n",
      "epoch 260:  loss = 1160.90283203\n",
      "epoch 262:  loss = 1160.88354492\n",
      "epoch 264:  loss = 1160.86572266\n",
      "epoch 266:  loss = 1160.84924316\n",
      "epoch 268:  loss = 1160.83386230\n",
      "epoch 270:  loss = 1160.81958008\n",
      "epoch 272:  loss = 1160.80651855\n",
      "epoch 274:  loss = 1160.79418945\n",
      "epoch 276:  loss = 1160.78283691\n",
      "epoch 278:  loss = 1160.77246094\n",
      "epoch 280:  loss = 1160.76269531\n",
      "epoch 282:  loss = 1160.75366211\n",
      "epoch 284:  loss = 1160.74536133\n",
      "epoch 286:  loss = 1160.73742676\n",
      "epoch 288:  loss = 1160.73034668\n",
      "epoch 290:  loss = 1160.72363281\n",
      "epoch 292:  loss = 1160.71752930\n",
      "epoch 294:  loss = 1160.71166992\n",
      "epoch 296:  loss = 1160.70642090\n",
      "epoch 298:  loss = 1160.70153809\n"
     ]
    },
    {
     "data": {
      "image/png": "[encoded data removed]",
      "text/plain": [
       "<Figure size 432x288 with 1 Axes>"
      ]
     },
     "metadata": {
      "needs_background": "light"
     },
     "output_type": "display_data"
    }
   ],
   "source": [
    "# 1) Entrenamiento\n",
    "model = gradiente_descent(X, y, iters=300)\n",
    "\n",
    "# 2) Graficar\n",
    "predicted = model(X).detach().numpy()\n",
    "\n",
    "plot_fit(X_numpy, y_numpy, predicted)"
   ]
  },
  {
   "cell_type": "code",
   "execution_count": null,
   "metadata": {
    "collapsed": true,
    "id": "T0UCQxCETk6a",
    "slideshow": {
     "slide_type": "slide"
    }
   },
   "outputs": [],
   "source": []
  }
 ],
 "metadata": {
  "accelerator": "GPU",
  "celltoolbar": "Slideshow",
  "colab": {
   "collapsed_sections": [],
   "name": "1_regresion_lineal_profesor_ucn.ipynb",
   "provenance": []
  },
  "kernelspec": {
   "display_name": "Python 3",
   "language": "python",
   "name": "python3"
  },
  "language_info": {
   "codemirror_mode": {
    "name": "ipython",
    "version": 3
   },
   "file_extension": ".py",
   "mimetype": "text/x-python",
   "name": "python",
   "nbconvert_exporter": "python",
   "pygments_lexer": "ipython3",
   "version": "3.7.9"
  }
 },
 "nbformat": 4,
 "nbformat_minor": 1
}
